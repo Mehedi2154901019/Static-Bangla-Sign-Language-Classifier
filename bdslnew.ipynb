{
 "cells": [
  {
   "cell_type": "code",
   "execution_count": null,
   "id": "cc239fce",
   "metadata": {},
   "outputs": [],
   "source": [
    "# ✅ STEP 1: Imports\n",
    "import tensorflow as tf\n",
    "from tensorflow.keras.preprocessing.image import ImageDataGenerator\n",
    "from tensorflow.keras.applications import EfficientNetB3\n",
    "from tensorflow.keras.models import Model\n",
    "from tensorflow.keras.layers import Dense, GlobalAveragePooling2D, Dropout\n",
    "from tensorflow.keras.callbacks import EarlyStopping, ModelCheckpoint,ReduceLROnPlateau\n",
    "from tensorflow.keras.applications import Xception\n",
    "from tensorflow.keras.models import Sequential\n",
    "from tensorflow.keras.layers import Dense, GlobalAveragePooling2D, Dropout\n",
    "from tensorflow.keras.optimizers import Adam\n",
    "import matplotlib.pyplot as plt\n",
    "import os\n",
    "import zipfile\n"
   ]
  },
  {
   "cell_type": "code",
   "execution_count": null,
   "id": "a7292cf1",
   "metadata": {},
   "outputs": [],
   "source": [
    "\n",
    "\n",
    "train_dir = '/kaggle/input/bdsl49-recognition-renamed-dataset/Recognition/train'\n",
    "test_dir = '/kaggle/input/bdsl49-recognition-renamed-dataset/Recognition/test'\n",
    "\n"
   ]
  },
  {
   "cell_type": "code",
   "execution_count": null,
   "id": "473a07b8",
   "metadata": {},
   "outputs": [],
   "source": [
    "import os\n",
    "\n",
    "print(len(os.listdir(test_dir)))  # should print 48 if there are 48 class folders\n"
   ]
  },
  {
   "cell_type": "code",
   "execution_count": null,
   "id": "bf415e70",
   "metadata": {},
   "outputs": [],
   "source": [
    "\n",
    "# ✅ STEP 2: Set Parameters\n",
    "IMG_SIZE = (300, 300)\n",
    "BATCH_SIZE = 32\n",
    "NUM_CLASSES = 48\n"
   ]
  },
  {
   "cell_type": "code",
   "execution_count": null,
   "id": "879803c7",
   "metadata": {},
   "outputs": [],
   "source": [
    "# ✅ Training Data Generator\n",
    "# ✅ Step 2: Augmentation & Data Generators\n",
    "train_datagen = ImageDataGenerator(\n",
    "    rescale=1./255,\n",
    "    rotation_range=30,\n",
    "    width_shift_range=0.2,\n",
    "    height_shift_range=0.2,\n",
    "    zoom_range=0.3,\n",
    "    brightness_range=[0.8, 1.2],\n",
    "    horizontal_flip=False,  # Hand signs are not symmetric\n",
    "    fill_mode='nearest'\n",
    ")\n",
    "\n",
    "\n",
    "test_datagen = ImageDataGenerator(rescale=1./255)\n",
    "\n",
    "train_generator = train_datagen.flow_from_directory(\n",
    "    train_dir,\n",
    "    target_size=IMG_SIZE,\n",
    "    batch_size=BATCH_SIZE,\n",
    "    class_mode='sparse'\n",
    ")\n",
    "\n",
    "test_generator = test_datagen.flow_from_directory(\n",
    "    test_dir,\n",
    "    target_size=IMG_SIZE,\n",
    "    batch_size=BATCH_SIZE,\n",
    "    class_mode='sparse'\n",
    ")\n"
   ]
  },
  {
   "cell_type": "code",
   "execution_count": null,
   "id": "7d2194e3",
   "metadata": {},
   "outputs": [],
   "source": [
    "print(train_generator.class_indices)\n",
    "print(test_generator.class_indices)\n"
   ]
  },
  {
   "cell_type": "code",
   "execution_count": null,
   "id": "a05364fb",
   "metadata": {},
   "outputs": [],
   "source": [
    "# ✅ Load Pretrained Xception\n",
    "base_model = Xception(weights='imagenet', include_top=False, input_shape=(300, 300, 3))\n",
    "base_model.trainable = True  # Freeze base layers initially\n"
   ]
  },
  {
   "cell_type": "code",
   "execution_count": null,
   "id": "46a34966",
   "metadata": {},
   "outputs": [],
   "source": [
    "from tensorflow.keras.models import load_model\n",
    "\n",
    "\n",
    "# Load the model\n",
    "model = load_model(\"/kaggle/input/new18-keras/new20.keras\")"
   ]
  },
  {
   "cell_type": "code",
   "execution_count": null,
   "id": "e92e29ed",
   "metadata": {},
   "outputs": [],
   "source": [
    "#model = Model(inputs=base_model.input, outputs=output)"
   ]
  },
  {
   "cell_type": "code",
   "execution_count": null,
   "id": "4bf09cb5",
   "metadata": {},
   "outputs": [],
   "source": [
    "'''\n",
    "for layer in base_model.layers[:50]:\n",
    "    layer.trainable = False\n",
    "\n",
    "# ✅ Step 4: Add Custom Classifier Head\n",
    "x = base_model.output\n",
    "x = GlobalAveragePooling2D()(x)\n",
    "x = Dropout(0.5)(x)\n",
    "x = Dense(256, activation='relu')(x)\n",
    "x = Dropout(0.3)(x)\n",
    "output = Dense(NUM_CLASSES, activation='softmax')(x)\n",
    "\n",
    "model = Model(inputs=base_model.input, outputs=output)\n",
    "\n",
    "# ✅ Step 5: Compile\n",
    "model.compile(optimizer=Adam(learning_rate=1e-5),\n",
    "              loss='sparse_categorical_crossentropy',\n",
    "              metrics=['accuracy'])\n",
    "\n",
    "model.summary()\n",
    "'''"
   ]
  },
  {
   "cell_type": "code",
   "execution_count": null,
   "id": "8bb91d56",
   "metadata": {},
   "outputs": [],
   "source": [
    "# ✅ Step 6: Callbacks\n",
    "checkpoint_cb = ModelCheckpoint('new20.keras', save_best_only=True, monitor='val_accuracy', mode='max', verbose=1)\n",
    "earlystop_cb = EarlyStopping(monitor='val_accuracy', patience=7, restore_best_weights=True, verbose=1)\n",
    "reduce_lr = ReduceLROnPlateau(monitor='val_loss', factor=0.5, patience=2, verbose=1, min_lr=1e-7)\n"
   ]
  },
  {
   "cell_type": "code",
   "execution_count": null,
   "id": "6db0c77a",
   "metadata": {},
   "outputs": [],
   "source": [
    "# ✅ Step 8: Train the Model\n",
    "history = model.fit(\n",
    "    train_generator,\n",
    "    validation_data=test_generator,\n",
    "    initial_epoch=30,\n",
    "    epochs=50,\n",
    "    callbacks=[checkpoint_cb, earlystop_cb, reduce_lr],\n",
    "    \n",
    ")"
   ]
  },
  {
   "cell_type": "code",
   "execution_count": null,
   "id": "64cf29ad",
   "metadata": {},
   "outputs": [],
   "source": [
    "import numpy as np\n",
    "from sklearn.metrics import classification_report, confusion_matrix\n",
    "import seaborn as sns\n",
    "\n",
    "\n",
    "# Get true labels and predictions\n",
    "test_generator.reset()\n",
    "preds = model.predict(test_generator, steps=test_generator.samples // test_generator.batch_size + 1)\n",
    "y_pred = np.argmax(preds, axis=1)  # If using softmax output\n",
    "y_true = test_generator.classes[:len(y_pred)]  # Match lengths\n",
    "\n",
    "# Optional: Class label mapping\n",
    "label_map = {v: k for k, v in train_generator.class_indices.items()}  # reverse mapping\n",
    "target_names = [label_map[i] for i in sorted(label_map.keys())]\n",
    "\n",
    "\n",
    "# Print classification report\n",
    "print(classification_report(y_true, y_pred, target_names=target_names))"
   ]
  }
 ],
 "metadata": {
  "language_info": {
   "name": "python"
  }
 },
 "nbformat": 4,
 "nbformat_minor": 5
}
